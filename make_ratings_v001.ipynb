{
 "cells": [
  {
   "cell_type": "code",
   "execution_count": 140,
   "metadata": {},
   "outputs": [],
   "source": [
    "import pandas as pd\n",
    "import numpy as np"
   ]
  },
  {
   "cell_type": "code",
   "execution_count": 2,
   "metadata": {},
   "outputs": [],
   "source": [
    "df = pd.read_json('movie_data.json')"
   ]
  },
  {
   "cell_type": "code",
   "execution_count": 4,
   "metadata": {},
   "outputs": [],
   "source": [
    "df['views_coeff'] = 1 - 1/df['views']"
   ]
  },
  {
   "cell_type": "code",
   "execution_count": 4,
   "metadata": {},
   "outputs": [],
   "source": [
    "df['likes_coeff'] = df['likes']/df['views']\n",
    "df['dis_coeff'] = df['dislikes']/df['views']\n",
    "df['dis_likes'] = 1 / (df['likes'] / df['dislikes'])"
   ]
  },
  {
   "cell_type": "code",
   "execution_count": null,
   "metadata": {},
   "outputs": [],
   "source": [
    "df.loc[df[df['views_coeff'] < 0].index, 'views_coeff'] = 0"
   ]
  },
  {
   "cell_type": "code",
   "execution_count": 77,
   "metadata": {},
   "outputs": [],
   "source": [
    "df.loc[df[df['likes_coeff'] < 0].index, 'likes_coeff'] = df.loc[df[df['likes_coeff'] < 0].index, 'likes_coeff'].abs()"
   ]
  },
  {
   "cell_type": "code",
   "execution_count": 62,
   "metadata": {},
   "outputs": [],
   "source": [
    "df.loc[df[df['likes_coeff'] == np.inf].index, 'likes_coeff'] = 0"
   ]
  },
  {
   "cell_type": "markdown",
   "metadata": {},
   "source": []
  },
  {
   "cell_type": "code",
   "execution_count": 92,
   "metadata": {},
   "outputs": [],
   "source": [
    "df['rating'] = (1 + df['likes_coeff'] - df['dis_coeff'])"
   ]
  },
  {
   "cell_type": "code",
   "execution_count": 110,
   "metadata": {},
   "outputs": [],
   "source": [
    "df['views_scaled'] = (df['views_coeff'] - df['views_coeff'].min()) / (df['views_coeff'].max() - df['views_coeff'].min())"
   ]
  },
  {
   "cell_type": "code",
   "execution_count": 111,
   "metadata": {},
   "outputs": [
    {
     "data": {
      "text/plain": [
       "count    71717.000000\n",
       "mean         0.830185\n",
       "std          0.345259\n",
       "min          0.000000\n",
       "25%          0.933333\n",
       "50%          0.997396\n",
       "75%          0.999883\n",
       "max          1.000000\n",
       "Name: views_coeff, dtype: float64"
      ]
     },
     "execution_count": 111,
     "metadata": {},
     "output_type": "execute_result"
    }
   ],
   "source": [
    "df['views_coeff'].describe()"
   ]
  },
  {
   "cell_type": "code",
   "execution_count": 106,
   "metadata": {},
   "outputs": [],
   "source": [
    "df.loc[df[df['views_coeff'] < 0].index, 'views_coeff'] = 0"
   ]
  },
  {
   "cell_type": "markdown",
   "metadata": {},
   "source": [
    "##### Let's go"
   ]
  },
  {
   "cell_type": "code",
   "execution_count": 5,
   "metadata": {},
   "outputs": [
    {
     "data": {
      "text/plain": [
       "count    7.171700e+04\n",
       "mean             -inf\n",
       "std               NaN\n",
       "min              -inf\n",
       "25%      9.333333e-01\n",
       "50%      9.973958e-01\n",
       "75%      9.998834e-01\n",
       "max      9.999999e-01\n",
       "Name: views_coeff, dtype: float64"
      ]
     },
     "execution_count": 5,
     "metadata": {},
     "output_type": "execute_result"
    }
   ],
   "source": [
    "df['views_coeff'].describe()"
   ]
  },
  {
   "cell_type": "markdown",
   "metadata": {},
   "source": [
    "##### clean of infinities"
   ]
  },
  {
   "cell_type": "code",
   "execution_count": 6,
   "metadata": {},
   "outputs": [],
   "source": [
    "df.loc[df[df['views_coeff'] == np.NINF].index, 'views_coeff'] = 0"
   ]
  },
  {
   "cell_type": "code",
   "execution_count": 7,
   "metadata": {},
   "outputs": [],
   "source": [
    "from sklearn.preprocessing import RobustScaler, QuantileTransformer, MinMaxScaler"
   ]
  },
  {
   "cell_type": "code",
   "execution_count": 8,
   "metadata": {},
   "outputs": [],
   "source": [
    "scaler = RobustScaler()"
   ]
  },
  {
   "cell_type": "code",
   "execution_count": 9,
   "metadata": {},
   "outputs": [
    {
     "data": {
      "text/plain": [
       "array([[  0.03884854],\n",
       "       [  0.03904412],\n",
       "       [  0.03906133],\n",
       "       ...,\n",
       "       [-14.98713879],\n",
       "       [-14.98713879],\n",
       "       [-14.98713879]])"
      ]
     },
     "execution_count": 9,
     "metadata": {},
     "output_type": "execute_result"
    }
   ],
   "source": [
    "scaler.fit_transform(np.reshape(df['views_coeff'].array, (-1,1)))"
   ]
  },
  {
   "cell_type": "code",
   "execution_count": 10,
   "metadata": {},
   "outputs": [
    {
     "name": "stdout",
     "output_type": "stream",
     "text": [
      "2.17 ms ± 12.5 µs per loop (mean ± std. dev. of 7 runs, 100 loops each)\n"
     ]
    }
   ],
   "source": [
    "%%timeit\n",
    "scaled = pd.DataFrame(scaler.fit_transform(np.reshape(df['views_coeff'].array, (-1,1))))"
   ]
  },
  {
   "cell_type": "code",
   "execution_count": 13,
   "metadata": {},
   "outputs": [],
   "source": [
    "scaled = pd.DataFrame(scaler.fit_transform(np.reshape(df['views_coeff'].array, (-1,1))))"
   ]
  },
  {
   "cell_type": "code",
   "execution_count": 15,
   "metadata": {},
   "outputs": [],
   "source": [
    "scaled[0] = scaled[0] - np.floor(scaled[0].min())"
   ]
  },
  {
   "cell_type": "markdown",
   "metadata": {},
   "source": [
    "##### likes / views"
   ]
  },
  {
   "cell_type": "code",
   "execution_count": 17,
   "metadata": {},
   "outputs": [],
   "source": [
    "df['likes_coeff'] = df['likes'] / df['views']"
   ]
  },
  {
   "cell_type": "code",
   "execution_count": 18,
   "metadata": {},
   "outputs": [],
   "source": [
    "df.loc[df[df['likes_coeff'] > 1].index, 'likes_coeff'] = 1"
   ]
  },
  {
   "cell_type": "code",
   "execution_count": 19,
   "metadata": {},
   "outputs": [],
   "source": [
    "df.loc[df[df['likes_coeff'] < 0].index, 'likes_coeff'] = 0"
   ]
  },
  {
   "cell_type": "code",
   "execution_count": 20,
   "metadata": {},
   "outputs": [],
   "source": [
    "df.loc[df[df['likes_coeff'].isna() == True].index, 'likes_coeff'] = 0"
   ]
  },
  {
   "cell_type": "code",
   "execution_count": 21,
   "metadata": {},
   "outputs": [],
   "source": [
    "scaled = pd.concat([scaled,\n",
    "           pd.DataFrame(QuantileTransformer().fit_transform(np.reshape(df['likes_coeff'].array, (-1,1))))\n",
    "          ], axis=1\n",
    "         )"
   ]
  },
  {
   "cell_type": "markdown",
   "metadata": {},
   "source": [
    "scaled.drop('likes', axis=1, inplace=True)"
   ]
  },
  {
   "cell_type": "code",
   "execution_count": 22,
   "metadata": {},
   "outputs": [],
   "source": [
    "scaled.columns = ('views', 'likes')"
   ]
  },
  {
   "cell_type": "code",
   "execution_count": 25,
   "metadata": {},
   "outputs": [],
   "source": [
    "scaled['likes'] = scaled['likes'] + 2"
   ]
  },
  {
   "cell_type": "markdown",
   "metadata": {},
   "source": [
    "##### dislikes / views"
   ]
  },
  {
   "cell_type": "code",
   "execution_count": 27,
   "metadata": {},
   "outputs": [],
   "source": [
    "df['dislikes_coeff'] = 1 - df['dislikes'] / df['views']"
   ]
  },
  {
   "cell_type": "code",
   "execution_count": 28,
   "metadata": {},
   "outputs": [],
   "source": [
    "df.loc[df[df['dislikes_coeff'].isna() == True].index, 'dislikes_coeff'] = 0"
   ]
  },
  {
   "cell_type": "code",
   "execution_count": 29,
   "metadata": {},
   "outputs": [],
   "source": [
    "scaler = QuantileTransformer()"
   ]
  },
  {
   "cell_type": "code",
   "execution_count": 30,
   "metadata": {},
   "outputs": [],
   "source": [
    "scaled = pd.concat([scaled,\n",
    "           pd.DataFrame(scaler.fit_transform(np.reshape(df['dislikes_coeff'].array, (-1,1))))\n",
    "          ], axis=1\n",
    "         )"
   ]
  },
  {
   "cell_type": "markdown",
   "metadata": {},
   "source": [
    "scaled.drop(scaled.columns[2:], axis=1, inplace=True)"
   ]
  },
  {
   "cell_type": "code",
   "execution_count": 31,
   "metadata": {},
   "outputs": [],
   "source": [
    "scaled.columns = ('views', 'likes', 'dislikes')"
   ]
  },
  {
   "cell_type": "code",
   "execution_count": 33,
   "metadata": {},
   "outputs": [
    {
     "data": {
      "text/html": [
       "<div>\n",
       "<style scoped>\n",
       "    .dataframe tbody tr th:only-of-type {\n",
       "        vertical-align: middle;\n",
       "    }\n",
       "\n",
       "    .dataframe tbody tr th {\n",
       "        vertical-align: top;\n",
       "    }\n",
       "\n",
       "    .dataframe thead th {\n",
       "        text-align: right;\n",
       "    }\n",
       "</style>\n",
       "<table border=\"1\" class=\"dataframe\">\n",
       "  <thead>\n",
       "    <tr style=\"text-align: right;\">\n",
       "      <th></th>\n",
       "      <th>views</th>\n",
       "      <th>likes</th>\n",
       "      <th>dislikes</th>\n",
       "    </tr>\n",
       "  </thead>\n",
       "  <tbody>\n",
       "    <tr>\n",
       "      <th>count</th>\n",
       "      <td>71717.000000</td>\n",
       "      <td>71717.000000</td>\n",
       "      <td>71717.000000</td>\n",
       "    </tr>\n",
       "    <tr>\n",
       "      <th>mean</th>\n",
       "      <td>12.487446</td>\n",
       "      <td>2.270823</td>\n",
       "      <td>0.678686</td>\n",
       "    </tr>\n",
       "    <tr>\n",
       "      <th>std</th>\n",
       "      <td>5.187954</td>\n",
       "      <td>0.395671</td>\n",
       "      <td>0.408791</td>\n",
       "    </tr>\n",
       "    <tr>\n",
       "      <th>min</th>\n",
       "      <td>0.012861</td>\n",
       "      <td>2.000000</td>\n",
       "      <td>0.000000</td>\n",
       "    </tr>\n",
       "    <tr>\n",
       "      <th>25%</th>\n",
       "      <td>14.037380</td>\n",
       "      <td>2.000000</td>\n",
       "      <td>0.249976</td>\n",
       "    </tr>\n",
       "    <tr>\n",
       "      <th>50%</th>\n",
       "      <td>15.000000</td>\n",
       "      <td>2.000000</td>\n",
       "      <td>1.000000</td>\n",
       "    </tr>\n",
       "    <tr>\n",
       "      <th>75%</th>\n",
       "      <td>15.037380</td>\n",
       "      <td>2.749983</td>\n",
       "      <td>1.000000</td>\n",
       "    </tr>\n",
       "    <tr>\n",
       "      <th>max</th>\n",
       "      <td>15.039129</td>\n",
       "      <td>3.000000</td>\n",
       "      <td>1.000000</td>\n",
       "    </tr>\n",
       "  </tbody>\n",
       "</table>\n",
       "</div>"
      ],
      "text/plain": [
       "              views         likes      dislikes\n",
       "count  71717.000000  71717.000000  71717.000000\n",
       "mean      12.487446      2.270823      0.678686\n",
       "std        5.187954      0.395671      0.408791\n",
       "min        0.012861      2.000000      0.000000\n",
       "25%       14.037380      2.000000      0.249976\n",
       "50%       15.000000      2.000000      1.000000\n",
       "75%       15.037380      2.749983      1.000000\n",
       "max       15.039129      3.000000      1.000000"
      ]
     },
     "execution_count": 33,
     "metadata": {},
     "output_type": "execute_result"
    }
   ],
   "source": [
    "scaled.describe()"
   ]
  },
  {
   "cell_type": "code",
   "execution_count": 34,
   "metadata": {},
   "outputs": [],
   "source": [
    "scaled['dislikes'] = scaled['dislikes'] + 2"
   ]
  },
  {
   "cell_type": "markdown",
   "metadata": {},
   "source": [
    "##### likes / dislikes"
   ]
  },
  {
   "cell_type": "code",
   "execution_count": 35,
   "metadata": {},
   "outputs": [],
   "source": [
    "df['l_d_coeff'] = df['likes']/df['dislikes']"
   ]
  },
  {
   "cell_type": "code",
   "execution_count": 45,
   "metadata": {},
   "outputs": [],
   "source": [
    "locate = df[df['l_d_coeff'] == np.inf].index"
   ]
  },
  {
   "cell_type": "code",
   "execution_count": 48,
   "metadata": {},
   "outputs": [],
   "source": [
    "df.loc[locate, 'l_d_coeff'] = df.loc[locate, 'likes'] "
   ]
  },
  {
   "cell_type": "code",
   "execution_count": 51,
   "metadata": {},
   "outputs": [
    {
     "data": {
      "text/html": [
       "<div>\n",
       "<style scoped>\n",
       "    .dataframe tbody tr th:only-of-type {\n",
       "        vertical-align: middle;\n",
       "    }\n",
       "\n",
       "    .dataframe tbody tr th {\n",
       "        vertical-align: top;\n",
       "    }\n",
       "\n",
       "    .dataframe thead th {\n",
       "        text-align: right;\n",
       "    }\n",
       "</style>\n",
       "<table border=\"1\" class=\"dataframe\">\n",
       "  <thead>\n",
       "    <tr style=\"text-align: right;\">\n",
       "      <th></th>\n",
       "      <th>id</th>\n",
       "      <th>likes</th>\n",
       "      <th>dislikes</th>\n",
       "      <th>views</th>\n",
       "      <th>days_ago</th>\n",
       "      <th>views_coeff</th>\n",
       "      <th>likes_coeff</th>\n",
       "      <th>dislikes_coeff</th>\n",
       "      <th>l_d_coeff</th>\n",
       "    </tr>\n",
       "  </thead>\n",
       "  <tbody>\n",
       "    <tr>\n",
       "      <th>4058</th>\n",
       "      <td>5011</td>\n",
       "      <td>0</td>\n",
       "      <td>0</td>\n",
       "      <td>1097</td>\n",
       "      <td>495.0</td>\n",
       "      <td>0.999088</td>\n",
       "      <td>0.0</td>\n",
       "      <td>1.0</td>\n",
       "      <td>NaN</td>\n",
       "    </tr>\n",
       "    <tr>\n",
       "      <th>5587</th>\n",
       "      <td>6926</td>\n",
       "      <td>0</td>\n",
       "      <td>0</td>\n",
       "      <td>982</td>\n",
       "      <td>678.0</td>\n",
       "      <td>0.998982</td>\n",
       "      <td>0.0</td>\n",
       "      <td>1.0</td>\n",
       "      <td>NaN</td>\n",
       "    </tr>\n",
       "    <tr>\n",
       "      <th>8760</th>\n",
       "      <td>10862</td>\n",
       "      <td>0</td>\n",
       "      <td>0</td>\n",
       "      <td>0</td>\n",
       "      <td>NaN</td>\n",
       "      <td>0.000000</td>\n",
       "      <td>0.0</td>\n",
       "      <td>0.0</td>\n",
       "      <td>NaN</td>\n",
       "    </tr>\n",
       "    <tr>\n",
       "      <th>8761</th>\n",
       "      <td>10863</td>\n",
       "      <td>0</td>\n",
       "      <td>0</td>\n",
       "      <td>0</td>\n",
       "      <td>NaN</td>\n",
       "      <td>0.000000</td>\n",
       "      <td>0.0</td>\n",
       "      <td>0.0</td>\n",
       "      <td>NaN</td>\n",
       "    </tr>\n",
       "    <tr>\n",
       "      <th>8762</th>\n",
       "      <td>10864</td>\n",
       "      <td>0</td>\n",
       "      <td>0</td>\n",
       "      <td>0</td>\n",
       "      <td>NaN</td>\n",
       "      <td>0.000000</td>\n",
       "      <td>0.0</td>\n",
       "      <td>0.0</td>\n",
       "      <td>NaN</td>\n",
       "    </tr>\n",
       "    <tr>\n",
       "      <th>...</th>\n",
       "      <td>...</td>\n",
       "      <td>...</td>\n",
       "      <td>...</td>\n",
       "      <td>...</td>\n",
       "      <td>...</td>\n",
       "      <td>...</td>\n",
       "      <td>...</td>\n",
       "      <td>...</td>\n",
       "      <td>...</td>\n",
       "    </tr>\n",
       "    <tr>\n",
       "      <th>71712</th>\n",
       "      <td>85651</td>\n",
       "      <td>0</td>\n",
       "      <td>0</td>\n",
       "      <td>0</td>\n",
       "      <td>NaN</td>\n",
       "      <td>0.000000</td>\n",
       "      <td>0.0</td>\n",
       "      <td>0.0</td>\n",
       "      <td>NaN</td>\n",
       "    </tr>\n",
       "    <tr>\n",
       "      <th>71713</th>\n",
       "      <td>85652</td>\n",
       "      <td>0</td>\n",
       "      <td>0</td>\n",
       "      <td>0</td>\n",
       "      <td>NaN</td>\n",
       "      <td>0.000000</td>\n",
       "      <td>0.0</td>\n",
       "      <td>0.0</td>\n",
       "      <td>NaN</td>\n",
       "    </tr>\n",
       "    <tr>\n",
       "      <th>71714</th>\n",
       "      <td>85653</td>\n",
       "      <td>0</td>\n",
       "      <td>0</td>\n",
       "      <td>0</td>\n",
       "      <td>NaN</td>\n",
       "      <td>0.000000</td>\n",
       "      <td>0.0</td>\n",
       "      <td>0.0</td>\n",
       "      <td>NaN</td>\n",
       "    </tr>\n",
       "    <tr>\n",
       "      <th>71715</th>\n",
       "      <td>85654</td>\n",
       "      <td>0</td>\n",
       "      <td>0</td>\n",
       "      <td>0</td>\n",
       "      <td>NaN</td>\n",
       "      <td>0.000000</td>\n",
       "      <td>0.0</td>\n",
       "      <td>0.0</td>\n",
       "      <td>NaN</td>\n",
       "    </tr>\n",
       "    <tr>\n",
       "      <th>71716</th>\n",
       "      <td>85655</td>\n",
       "      <td>0</td>\n",
       "      <td>0</td>\n",
       "      <td>0</td>\n",
       "      <td>NaN</td>\n",
       "      <td>0.000000</td>\n",
       "      <td>0.0</td>\n",
       "      <td>0.0</td>\n",
       "      <td>NaN</td>\n",
       "    </tr>\n",
       "  </tbody>\n",
       "</table>\n",
       "<p>48002 rows × 9 columns</p>\n",
       "</div>"
      ],
      "text/plain": [
       "          id  likes  dislikes  views  days_ago  views_coeff  likes_coeff  \\\n",
       "4058    5011      0         0   1097     495.0     0.999088          0.0   \n",
       "5587    6926      0         0    982     678.0     0.998982          0.0   \n",
       "8760   10862      0         0      0       NaN     0.000000          0.0   \n",
       "8761   10863      0         0      0       NaN     0.000000          0.0   \n",
       "8762   10864      0         0      0       NaN     0.000000          0.0   \n",
       "...      ...    ...       ...    ...       ...          ...          ...   \n",
       "71712  85651      0         0      0       NaN     0.000000          0.0   \n",
       "71713  85652      0         0      0       NaN     0.000000          0.0   \n",
       "71714  85653      0         0      0       NaN     0.000000          0.0   \n",
       "71715  85654      0         0      0       NaN     0.000000          0.0   \n",
       "71716  85655      0         0      0       NaN     0.000000          0.0   \n",
       "\n",
       "       dislikes_coeff  l_d_coeff  \n",
       "4058              1.0        NaN  \n",
       "5587              1.0        NaN  \n",
       "8760              0.0        NaN  \n",
       "8761              0.0        NaN  \n",
       "8762              0.0        NaN  \n",
       "...               ...        ...  \n",
       "71712             0.0        NaN  \n",
       "71713             0.0        NaN  \n",
       "71714             0.0        NaN  \n",
       "71715             0.0        NaN  \n",
       "71716             0.0        NaN  \n",
       "\n",
       "[48002 rows x 9 columns]"
      ]
     },
     "execution_count": 51,
     "metadata": {},
     "output_type": "execute_result"
    }
   ],
   "source": [
    "df[df['l_d_coeff'].isna() == True]"
   ]
  },
  {
   "cell_type": "code",
   "execution_count": 52,
   "metadata": {},
   "outputs": [],
   "source": [
    "df.loc[df[df['l_d_coeff'].isna() == True].index, 'l_d_coeff'] = 1"
   ]
  },
  {
   "cell_type": "code",
   "execution_count": 53,
   "metadata": {},
   "outputs": [],
   "source": [
    "df.loc[df[df['l_d_coeff'] < 0].index, 'l_d_coeff'] = 1"
   ]
  },
  {
   "cell_type": "code",
   "execution_count": 54,
   "metadata": {},
   "outputs": [],
   "source": [
    "scaler = QuantileTransformer(output_distribution='normal')"
   ]
  },
  {
   "cell_type": "code",
   "execution_count": 55,
   "metadata": {},
   "outputs": [],
   "source": [
    "scaled = pd.concat([scaled,\n",
    "           pd.DataFrame(scaler.fit_transform(np.reshape(df['l_d_coeff'].array, (-1,1))))\n",
    "          ], axis=1\n",
    "         )"
   ]
  },
  {
   "cell_type": "code",
   "execution_count": 56,
   "metadata": {},
   "outputs": [
    {
     "data": {
      "text/html": [
       "<div>\n",
       "<style scoped>\n",
       "    .dataframe tbody tr th:only-of-type {\n",
       "        vertical-align: middle;\n",
       "    }\n",
       "\n",
       "    .dataframe tbody tr th {\n",
       "        vertical-align: top;\n",
       "    }\n",
       "\n",
       "    .dataframe thead th {\n",
       "        text-align: right;\n",
       "    }\n",
       "</style>\n",
       "<table border=\"1\" class=\"dataframe\">\n",
       "  <thead>\n",
       "    <tr style=\"text-align: right;\">\n",
       "      <th></th>\n",
       "      <th>views</th>\n",
       "      <th>likes</th>\n",
       "      <th>dislikes</th>\n",
       "      <th>0</th>\n",
       "    </tr>\n",
       "  </thead>\n",
       "  <tbody>\n",
       "    <tr>\n",
       "      <th>count</th>\n",
       "      <td>71717.000000</td>\n",
       "      <td>71717.000000</td>\n",
       "      <td>71717.000000</td>\n",
       "      <td>71717.000000</td>\n",
       "    </tr>\n",
       "    <tr>\n",
       "      <th>mean</th>\n",
       "      <td>12.487446</td>\n",
       "      <td>2.270823</td>\n",
       "      <td>2.678686</td>\n",
       "      <td>-0.010579</td>\n",
       "    </tr>\n",
       "    <tr>\n",
       "      <th>std</th>\n",
       "      <td>5.187954</td>\n",
       "      <td>0.395671</td>\n",
       "      <td>0.408791</td>\n",
       "      <td>0.967885</td>\n",
       "    </tr>\n",
       "    <tr>\n",
       "      <th>min</th>\n",
       "      <td>0.012861</td>\n",
       "      <td>2.000000</td>\n",
       "      <td>2.000000</td>\n",
       "      <td>-5.199338</td>\n",
       "    </tr>\n",
       "    <tr>\n",
       "      <th>25%</th>\n",
       "      <td>14.037380</td>\n",
       "      <td>2.000000</td>\n",
       "      <td>2.249976</td>\n",
       "      <td>-0.062770</td>\n",
       "    </tr>\n",
       "    <tr>\n",
       "      <th>50%</th>\n",
       "      <td>15.000000</td>\n",
       "      <td>2.000000</td>\n",
       "      <td>3.000000</td>\n",
       "      <td>-0.062770</td>\n",
       "    </tr>\n",
       "    <tr>\n",
       "      <th>75%</th>\n",
       "      <td>15.037380</td>\n",
       "      <td>2.749983</td>\n",
       "      <td>3.000000</td>\n",
       "      <td>-0.062770</td>\n",
       "    </tr>\n",
       "    <tr>\n",
       "      <th>max</th>\n",
       "      <td>15.039129</td>\n",
       "      <td>3.000000</td>\n",
       "      <td>3.000000</td>\n",
       "      <td>5.199338</td>\n",
       "    </tr>\n",
       "  </tbody>\n",
       "</table>\n",
       "</div>"
      ],
      "text/plain": [
       "              views         likes      dislikes             0\n",
       "count  71717.000000  71717.000000  71717.000000  71717.000000\n",
       "mean      12.487446      2.270823      2.678686     -0.010579\n",
       "std        5.187954      0.395671      0.408791      0.967885\n",
       "min        0.012861      2.000000      2.000000     -5.199338\n",
       "25%       14.037380      2.000000      2.249976     -0.062770\n",
       "50%       15.000000      2.000000      3.000000     -0.062770\n",
       "75%       15.037380      2.749983      3.000000     -0.062770\n",
       "max       15.039129      3.000000      3.000000      5.199338"
      ]
     },
     "execution_count": 56,
     "metadata": {},
     "output_type": "execute_result"
    }
   ],
   "source": [
    "scaled.describe()"
   ]
  },
  {
   "cell_type": "code",
   "execution_count": 57,
   "metadata": {},
   "outputs": [
    {
     "data": {
      "text/plain": [
       "5.19933758270342"
      ]
     },
     "execution_count": 57,
     "metadata": {},
     "output_type": "execute_result"
    }
   ],
   "source": [
    "scaled[0].max()"
   ]
  },
  {
   "cell_type": "code",
   "execution_count": 58,
   "metadata": {},
   "outputs": [
    {
     "data": {
      "text/plain": [
       "-5.199337582605575"
      ]
     },
     "execution_count": 58,
     "metadata": {},
     "output_type": "execute_result"
    }
   ],
   "source": [
    "scaled[0].min()"
   ]
  },
  {
   "cell_type": "code",
   "execution_count": 59,
   "metadata": {},
   "outputs": [],
   "source": [
    "scaled[0] += abs(scaled[0].min())"
   ]
  },
  {
   "cell_type": "code",
   "execution_count": 60,
   "metadata": {},
   "outputs": [],
   "source": [
    "scaled[0] /= scaled[0].max()"
   ]
  },
  {
   "cell_type": "code",
   "execution_count": 61,
   "metadata": {},
   "outputs": [],
   "source": [
    "scaled[0] += 0.5"
   ]
  },
  {
   "cell_type": "code",
   "execution_count": 62,
   "metadata": {},
   "outputs": [],
   "source": [
    "scaled.columns = list(scaled.columns[:-1]) + ['l_d']"
   ]
  },
  {
   "cell_type": "markdown",
   "metadata": {},
   "source": [
    "##### time coeff"
   ]
  },
  {
   "cell_type": "code",
   "execution_count": 67,
   "metadata": {},
   "outputs": [],
   "source": [
    "df['time_coeff'] = np.log(1/df['days_ago'])*(df['days_ago']/365)**1.1"
   ]
  },
  {
   "cell_type": "code",
   "execution_count": 68,
   "metadata": {},
   "outputs": [],
   "source": [
    "df.loc[df['time_coeff'].isna() == True, 'time_coeff'] = 0"
   ]
  },
  {
   "cell_type": "code",
   "execution_count": 69,
   "metadata": {},
   "outputs": [],
   "source": [
    "scaler = MinMaxScaler()"
   ]
  },
  {
   "cell_type": "code",
   "execution_count": 70,
   "metadata": {},
   "outputs": [],
   "source": [
    "scaled = pd.concat([scaled,\n",
    "           pd.DataFrame(scaler.fit_transform(np.reshape(df['time_coeff'].array, (-1,1))))\n",
    "          ], axis=1\n",
    "         )"
   ]
  },
  {
   "cell_type": "code",
   "execution_count": 71,
   "metadata": {},
   "outputs": [],
   "source": [
    "scaled.columns = list(scaled.columns[:-1]) + ['time']"
   ]
  },
  {
   "cell_type": "code",
   "execution_count": 72,
   "metadata": {},
   "outputs": [
    {
     "data": {
      "text/html": [
       "<div>\n",
       "<style scoped>\n",
       "    .dataframe tbody tr th:only-of-type {\n",
       "        vertical-align: middle;\n",
       "    }\n",
       "\n",
       "    .dataframe tbody tr th {\n",
       "        vertical-align: top;\n",
       "    }\n",
       "\n",
       "    .dataframe thead th {\n",
       "        text-align: right;\n",
       "    }\n",
       "</style>\n",
       "<table border=\"1\" class=\"dataframe\">\n",
       "  <thead>\n",
       "    <tr style=\"text-align: right;\">\n",
       "      <th></th>\n",
       "      <th>views</th>\n",
       "      <th>likes</th>\n",
       "      <th>dislikes</th>\n",
       "      <th>l_d</th>\n",
       "      <th>time</th>\n",
       "    </tr>\n",
       "  </thead>\n",
       "  <tbody>\n",
       "    <tr>\n",
       "      <th>0</th>\n",
       "      <td>15.038849</td>\n",
       "      <td>2.959848</td>\n",
       "      <td>2.246043</td>\n",
       "      <td>1.167523</td>\n",
       "      <td>0.057341</td>\n",
       "    </tr>\n",
       "    <tr>\n",
       "      <th>1</th>\n",
       "      <td>15.039044</td>\n",
       "      <td>2.771618</td>\n",
       "      <td>2.261472</td>\n",
       "      <td>0.874527</td>\n",
       "      <td>0.090318</td>\n",
       "    </tr>\n",
       "    <tr>\n",
       "      <th>2</th>\n",
       "      <td>15.039061</td>\n",
       "      <td>2.905548</td>\n",
       "      <td>2.366014</td>\n",
       "      <td>1.169229</td>\n",
       "      <td>0.106279</td>\n",
       "    </tr>\n",
       "    <tr>\n",
       "      <th>3</th>\n",
       "      <td>15.038462</td>\n",
       "      <td>2.962223</td>\n",
       "      <td>2.227097</td>\n",
       "      <td>1.168479</td>\n",
       "      <td>0.113791</td>\n",
       "    </tr>\n",
       "    <tr>\n",
       "      <th>4</th>\n",
       "      <td>15.038987</td>\n",
       "      <td>2.936345</td>\n",
       "      <td>2.210343</td>\n",
       "      <td>1.137203</td>\n",
       "      <td>0.114391</td>\n",
       "    </tr>\n",
       "    <tr>\n",
       "      <th>...</th>\n",
       "      <td>...</td>\n",
       "      <td>...</td>\n",
       "      <td>...</td>\n",
       "      <td>...</td>\n",
       "      <td>...</td>\n",
       "    </tr>\n",
       "    <tr>\n",
       "      <th>71712</th>\n",
       "      <td>0.012861</td>\n",
       "      <td>2.000000</td>\n",
       "      <td>2.000000</td>\n",
       "      <td>0.993964</td>\n",
       "      <td>1.000000</td>\n",
       "    </tr>\n",
       "    <tr>\n",
       "      <th>71713</th>\n",
       "      <td>0.012861</td>\n",
       "      <td>2.000000</td>\n",
       "      <td>2.000000</td>\n",
       "      <td>0.993964</td>\n",
       "      <td>1.000000</td>\n",
       "    </tr>\n",
       "    <tr>\n",
       "      <th>71714</th>\n",
       "      <td>0.012861</td>\n",
       "      <td>2.000000</td>\n",
       "      <td>2.000000</td>\n",
       "      <td>0.993964</td>\n",
       "      <td>1.000000</td>\n",
       "    </tr>\n",
       "    <tr>\n",
       "      <th>71715</th>\n",
       "      <td>0.012861</td>\n",
       "      <td>2.000000</td>\n",
       "      <td>2.000000</td>\n",
       "      <td>0.993964</td>\n",
       "      <td>1.000000</td>\n",
       "    </tr>\n",
       "    <tr>\n",
       "      <th>71716</th>\n",
       "      <td>0.012861</td>\n",
       "      <td>2.000000</td>\n",
       "      <td>2.000000</td>\n",
       "      <td>0.993964</td>\n",
       "      <td>1.000000</td>\n",
       "    </tr>\n",
       "  </tbody>\n",
       "</table>\n",
       "<p>71717 rows × 5 columns</p>\n",
       "</div>"
      ],
      "text/plain": [
       "           views     likes  dislikes       l_d      time\n",
       "0      15.038849  2.959848  2.246043  1.167523  0.057341\n",
       "1      15.039044  2.771618  2.261472  0.874527  0.090318\n",
       "2      15.039061  2.905548  2.366014  1.169229  0.106279\n",
       "3      15.038462  2.962223  2.227097  1.168479  0.113791\n",
       "4      15.038987  2.936345  2.210343  1.137203  0.114391\n",
       "...          ...       ...       ...       ...       ...\n",
       "71712   0.012861  2.000000  2.000000  0.993964  1.000000\n",
       "71713   0.012861  2.000000  2.000000  0.993964  1.000000\n",
       "71714   0.012861  2.000000  2.000000  0.993964  1.000000\n",
       "71715   0.012861  2.000000  2.000000  0.993964  1.000000\n",
       "71716   0.012861  2.000000  2.000000  0.993964  1.000000\n",
       "\n",
       "[71717 rows x 5 columns]"
      ]
     },
     "execution_count": 72,
     "metadata": {},
     "output_type": "execute_result"
    }
   ],
   "source": [
    "scaled"
   ]
  },
  {
   "cell_type": "code",
   "execution_count": 73,
   "metadata": {},
   "outputs": [],
   "source": [
    "rating = pd.Series(index=df.index, name='rating', dtype='float64', data=1)"
   ]
  },
  {
   "cell_type": "code",
   "execution_count": 74,
   "metadata": {},
   "outputs": [
    {
     "data": {
      "text/plain": [
       "0        1.0\n",
       "1        1.0\n",
       "2        1.0\n",
       "3        1.0\n",
       "4        1.0\n",
       "        ... \n",
       "71712    1.0\n",
       "71713    1.0\n",
       "71714    1.0\n",
       "71715    1.0\n",
       "71716    1.0\n",
       "Name: rating, Length: 71717, dtype: float64"
      ]
     },
     "execution_count": 74,
     "metadata": {},
     "output_type": "execute_result"
    }
   ],
   "source": [
    "rating"
   ]
  },
  {
   "cell_type": "code",
   "execution_count": 75,
   "metadata": {},
   "outputs": [],
   "source": [
    "for index, name in enumerate(scaled.columns):\n",
    "    rating *= scaled[name]"
   ]
  },
  {
   "cell_type": "code",
   "execution_count": 76,
   "metadata": {},
   "outputs": [
    {
     "data": {
      "text/plain": [
       "count    71717.000000\n",
       "mean        68.894186\n",
       "std         34.376783\n",
       "min          0.000000\n",
       "25%         55.767849\n",
       "50%         82.616434\n",
       "75%         86.525354\n",
       "max        183.123420\n",
       "Name: rating, dtype: float64"
      ]
     },
     "execution_count": 76,
     "metadata": {},
     "output_type": "execute_result"
    }
   ],
   "source": [
    "rating.describe()"
   ]
  },
  {
   "cell_type": "code",
   "execution_count": 80,
   "metadata": {},
   "outputs": [
    {
     "data": {
      "text/html": [
       "<div>\n",
       "<style scoped>\n",
       "    .dataframe tbody tr th:only-of-type {\n",
       "        vertical-align: middle;\n",
       "    }\n",
       "\n",
       "    .dataframe tbody tr th {\n",
       "        vertical-align: top;\n",
       "    }\n",
       "\n",
       "    .dataframe thead th {\n",
       "        text-align: right;\n",
       "    }\n",
       "</style>\n",
       "<table border=\"1\" class=\"dataframe\">\n",
       "  <thead>\n",
       "    <tr style=\"text-align: right;\">\n",
       "      <th></th>\n",
       "      <th>id</th>\n",
       "      <th>likes</th>\n",
       "      <th>dislikes</th>\n",
       "      <th>views</th>\n",
       "      <th>days_ago</th>\n",
       "      <th>views_coeff</th>\n",
       "      <th>likes_coeff</th>\n",
       "      <th>dislikes_coeff</th>\n",
       "      <th>l_d_coeff</th>\n",
       "      <th>time_coeff</th>\n",
       "    </tr>\n",
       "  </thead>\n",
       "  <tbody>\n",
       "    <tr>\n",
       "      <th>2</th>\n",
       "      <td>13</td>\n",
       "      <td>1546</td>\n",
       "      <td>391</td>\n",
       "      <td>215958</td>\n",
       "      <td>3632.0</td>\n",
       "      <td>0.999995</td>\n",
       "      <td>0.007159</td>\n",
       "      <td>0.998189</td>\n",
       "      <td>3.953964</td>\n",
       "      <td>-102.641207</td>\n",
       "    </tr>\n",
       "    <tr>\n",
       "      <th>3</th>\n",
       "      <td>14</td>\n",
       "      <td>413</td>\n",
       "      <td>109</td>\n",
       "      <td>22462</td>\n",
       "      <td>3607.0</td>\n",
       "      <td>0.999955</td>\n",
       "      <td>0.018387</td>\n",
       "      <td>0.995147</td>\n",
       "      <td>3.788991</td>\n",
       "      <td>-101.778490</td>\n",
       "    </tr>\n",
       "    <tr>\n",
       "      <th>4</th>\n",
       "      <td>15</td>\n",
       "      <td>980</td>\n",
       "      <td>541</td>\n",
       "      <td>104406</td>\n",
       "      <td>3605.0</td>\n",
       "      <td>0.999990</td>\n",
       "      <td>0.009386</td>\n",
       "      <td>0.994818</td>\n",
       "      <td>1.811460</td>\n",
       "      <td>-101.709527</td>\n",
       "    </tr>\n",
       "    <tr>\n",
       "      <th>5</th>\n",
       "      <td>16</td>\n",
       "      <td>500</td>\n",
       "      <td>238</td>\n",
       "      <td>64613</td>\n",
       "      <td>3602.0</td>\n",
       "      <td>0.999985</td>\n",
       "      <td>0.007738</td>\n",
       "      <td>0.996317</td>\n",
       "      <td>2.100840</td>\n",
       "      <td>-101.606097</td>\n",
       "    </tr>\n",
       "    <tr>\n",
       "      <th>6</th>\n",
       "      <td>17</td>\n",
       "      <td>1770</td>\n",
       "      <td>571</td>\n",
       "      <td>164843</td>\n",
       "      <td>3590.0</td>\n",
       "      <td>0.999994</td>\n",
       "      <td>0.010737</td>\n",
       "      <td>0.996536</td>\n",
       "      <td>3.099825</td>\n",
       "      <td>-101.192558</td>\n",
       "    </tr>\n",
       "    <tr>\n",
       "      <th>...</th>\n",
       "      <td>...</td>\n",
       "      <td>...</td>\n",
       "      <td>...</td>\n",
       "      <td>...</td>\n",
       "      <td>...</td>\n",
       "      <td>...</td>\n",
       "      <td>...</td>\n",
       "      <td>...</td>\n",
       "      <td>...</td>\n",
       "      <td>...</td>\n",
       "    </tr>\n",
       "    <tr>\n",
       "      <th>71692</th>\n",
       "      <td>85631</td>\n",
       "      <td>0</td>\n",
       "      <td>0</td>\n",
       "      <td>16</td>\n",
       "      <td>1.0</td>\n",
       "      <td>0.937500</td>\n",
       "      <td>0.000000</td>\n",
       "      <td>1.000000</td>\n",
       "      <td>1.000000</td>\n",
       "      <td>0.000000</td>\n",
       "    </tr>\n",
       "    <tr>\n",
       "      <th>71702</th>\n",
       "      <td>85641</td>\n",
       "      <td>0</td>\n",
       "      <td>0</td>\n",
       "      <td>78</td>\n",
       "      <td>0.0</td>\n",
       "      <td>0.987179</td>\n",
       "      <td>0.000000</td>\n",
       "      <td>1.000000</td>\n",
       "      <td>1.000000</td>\n",
       "      <td>0.000000</td>\n",
       "    </tr>\n",
       "    <tr>\n",
       "      <th>71703</th>\n",
       "      <td>85642</td>\n",
       "      <td>0</td>\n",
       "      <td>0</td>\n",
       "      <td>2</td>\n",
       "      <td>0.0</td>\n",
       "      <td>0.500000</td>\n",
       "      <td>0.000000</td>\n",
       "      <td>1.000000</td>\n",
       "      <td>1.000000</td>\n",
       "      <td>0.000000</td>\n",
       "    </tr>\n",
       "    <tr>\n",
       "      <th>71704</th>\n",
       "      <td>85643</td>\n",
       "      <td>2</td>\n",
       "      <td>0</td>\n",
       "      <td>130</td>\n",
       "      <td>0.0</td>\n",
       "      <td>0.992308</td>\n",
       "      <td>0.015385</td>\n",
       "      <td>1.000000</td>\n",
       "      <td>2.000000</td>\n",
       "      <td>0.000000</td>\n",
       "    </tr>\n",
       "    <tr>\n",
       "      <th>71711</th>\n",
       "      <td>85650</td>\n",
       "      <td>0</td>\n",
       "      <td>0</td>\n",
       "      <td>6</td>\n",
       "      <td>0.0</td>\n",
       "      <td>0.833333</td>\n",
       "      <td>0.000000</td>\n",
       "      <td>1.000000</td>\n",
       "      <td>1.000000</td>\n",
       "      <td>0.000000</td>\n",
       "    </tr>\n",
       "  </tbody>\n",
       "</table>\n",
       "<p>61692 rows × 10 columns</p>\n",
       "</div>"
      ],
      "text/plain": [
       "          id  likes  dislikes   views  days_ago  views_coeff  likes_coeff  \\\n",
       "2         13   1546       391  215958    3632.0     0.999995     0.007159   \n",
       "3         14    413       109   22462    3607.0     0.999955     0.018387   \n",
       "4         15    980       541  104406    3605.0     0.999990     0.009386   \n",
       "5         16    500       238   64613    3602.0     0.999985     0.007738   \n",
       "6         17   1770       571  164843    3590.0     0.999994     0.010737   \n",
       "...      ...    ...       ...     ...       ...          ...          ...   \n",
       "71692  85631      0         0      16       1.0     0.937500     0.000000   \n",
       "71702  85641      0         0      78       0.0     0.987179     0.000000   \n",
       "71703  85642      0         0       2       0.0     0.500000     0.000000   \n",
       "71704  85643      2         0     130       0.0     0.992308     0.015385   \n",
       "71711  85650      0         0       6       0.0     0.833333     0.000000   \n",
       "\n",
       "       dislikes_coeff  l_d_coeff  time_coeff  \n",
       "2            0.998189   3.953964 -102.641207  \n",
       "3            0.995147   3.788991 -101.778490  \n",
       "4            0.994818   1.811460 -101.709527  \n",
       "5            0.996317   2.100840 -101.606097  \n",
       "6            0.996536   3.099825 -101.192558  \n",
       "...               ...        ...         ...  \n",
       "71692        1.000000   1.000000    0.000000  \n",
       "71702        1.000000   1.000000    0.000000  \n",
       "71703        1.000000   1.000000    0.000000  \n",
       "71704        1.000000   2.000000    0.000000  \n",
       "71711        1.000000   1.000000    0.000000  \n",
       "\n",
       "[61692 rows x 10 columns]"
      ]
     },
     "execution_count": 80,
     "metadata": {},
     "output_type": "execute_result"
    }
   ],
   "source": [
    "df.loc[rating[rating > 9].index, :]"
   ]
  },
  {
   "cell_type": "code",
   "execution_count": 328,
   "metadata": {},
   "outputs": [
    {
     "data": {
      "text/html": [
       "<div>\n",
       "<style scoped>\n",
       "    .dataframe tbody tr th:only-of-type {\n",
       "        vertical-align: middle;\n",
       "    }\n",
       "\n",
       "    .dataframe tbody tr th {\n",
       "        vertical-align: top;\n",
       "    }\n",
       "\n",
       "    .dataframe thead th {\n",
       "        text-align: right;\n",
       "    }\n",
       "</style>\n",
       "<table border=\"1\" class=\"dataframe\">\n",
       "  <thead>\n",
       "    <tr style=\"text-align: right;\">\n",
       "      <th></th>\n",
       "      <th>id</th>\n",
       "      <th>likes</th>\n",
       "      <th>dislikes</th>\n",
       "      <th>views</th>\n",
       "      <th>days_ago</th>\n",
       "      <th>views_coeff</th>\n",
       "      <th>likes_coeff</th>\n",
       "      <th>dislikes_coeff</th>\n",
       "      <th>l_d_coeff</th>\n",
       "      <th>time_coeff</th>\n",
       "    </tr>\n",
       "  </thead>\n",
       "  <tbody>\n",
       "    <tr>\n",
       "      <th>0</th>\n",
       "      <td>5.0</td>\n",
       "      <td>861.0</td>\n",
       "      <td>241.0</td>\n",
       "      <td>53214.0</td>\n",
       "      <td>3794.0</td>\n",
       "      <td>0.999981</td>\n",
       "      <td>0.016180</td>\n",
       "      <td>0.995471</td>\n",
       "      <td>3.572614</td>\n",
       "      <td>-108.261516</td>\n",
       "    </tr>\n",
       "    <tr>\n",
       "      <th>1</th>\n",
       "      <td>9.0</td>\n",
       "      <td>630.0</td>\n",
       "      <td>740.0</td>\n",
       "      <td>173130.0</td>\n",
       "      <td>3685.0</td>\n",
       "      <td>0.999994</td>\n",
       "      <td>0.003639</td>\n",
       "      <td>0.995726</td>\n",
       "      <td>0.851351</td>\n",
       "      <td>-104.474282</td>\n",
       "    </tr>\n",
       "    <tr>\n",
       "      <th>2</th>\n",
       "      <td>13.0</td>\n",
       "      <td>1546.0</td>\n",
       "      <td>391.0</td>\n",
       "      <td>215958.0</td>\n",
       "      <td>3632.0</td>\n",
       "      <td>0.999995</td>\n",
       "      <td>0.007159</td>\n",
       "      <td>0.998189</td>\n",
       "      <td>3.953964</td>\n",
       "      <td>-102.641207</td>\n",
       "    </tr>\n",
       "    <tr>\n",
       "      <th>3</th>\n",
       "      <td>14.0</td>\n",
       "      <td>413.0</td>\n",
       "      <td>109.0</td>\n",
       "      <td>22462.0</td>\n",
       "      <td>3607.0</td>\n",
       "      <td>0.999955</td>\n",
       "      <td>0.018387</td>\n",
       "      <td>0.995147</td>\n",
       "      <td>3.788991</td>\n",
       "      <td>-101.778490</td>\n",
       "    </tr>\n",
       "    <tr>\n",
       "      <th>4</th>\n",
       "      <td>15.0</td>\n",
       "      <td>980.0</td>\n",
       "      <td>541.0</td>\n",
       "      <td>104406.0</td>\n",
       "      <td>3605.0</td>\n",
       "      <td>0.999990</td>\n",
       "      <td>0.009386</td>\n",
       "      <td>0.994818</td>\n",
       "      <td>1.811460</td>\n",
       "      <td>-101.709527</td>\n",
       "    </tr>\n",
       "    <tr>\n",
       "      <th>5</th>\n",
       "      <td>16.0</td>\n",
       "      <td>500.0</td>\n",
       "      <td>238.0</td>\n",
       "      <td>64613.0</td>\n",
       "      <td>3602.0</td>\n",
       "      <td>0.999985</td>\n",
       "      <td>0.007738</td>\n",
       "      <td>0.996317</td>\n",
       "      <td>2.100840</td>\n",
       "      <td>-101.606097</td>\n",
       "    </tr>\n",
       "    <tr>\n",
       "      <th>6</th>\n",
       "      <td>17.0</td>\n",
       "      <td>1770.0</td>\n",
       "      <td>571.0</td>\n",
       "      <td>164843.0</td>\n",
       "      <td>3590.0</td>\n",
       "      <td>0.999994</td>\n",
       "      <td>0.010737</td>\n",
       "      <td>0.996536</td>\n",
       "      <td>3.099825</td>\n",
       "      <td>-101.192558</td>\n",
       "    </tr>\n",
       "    <tr>\n",
       "      <th>7</th>\n",
       "      <td>4994.0</td>\n",
       "      <td>4994.0</td>\n",
       "      <td>4994.0</td>\n",
       "      <td>4994.0</td>\n",
       "      <td>4994.0</td>\n",
       "      <td>4994.000000</td>\n",
       "      <td>4994.000000</td>\n",
       "      <td>4994.000000</td>\n",
       "      <td>1.000000</td>\n",
       "      <td>-151.358394</td>\n",
       "    </tr>\n",
       "    <tr>\n",
       "      <th>8</th>\n",
       "      <td>20.0</td>\n",
       "      <td>9020.0</td>\n",
       "      <td>8309.0</td>\n",
       "      <td>1244101.0</td>\n",
       "      <td>3580.0</td>\n",
       "      <td>0.999999</td>\n",
       "      <td>0.007250</td>\n",
       "      <td>0.993321</td>\n",
       "      <td>1.085570</td>\n",
       "      <td>-100.848164</td>\n",
       "    </tr>\n",
       "    <tr>\n",
       "      <th>9</th>\n",
       "      <td>24.0</td>\n",
       "      <td>1307.0</td>\n",
       "      <td>687.0</td>\n",
       "      <td>160829.0</td>\n",
       "      <td>3568.0</td>\n",
       "      <td>0.999994</td>\n",
       "      <td>0.008127</td>\n",
       "      <td>0.995728</td>\n",
       "      <td>1.902475</td>\n",
       "      <td>-100.435158</td>\n",
       "    </tr>\n",
       "  </tbody>\n",
       "</table>\n",
       "</div>"
      ],
      "text/plain": [
       "       id   likes  dislikes      views  days_ago  views_coeff  likes_coeff  \\\n",
       "0     5.0   861.0     241.0    53214.0    3794.0     0.999981     0.016180   \n",
       "1     9.0   630.0     740.0   173130.0    3685.0     0.999994     0.003639   \n",
       "2    13.0  1546.0     391.0   215958.0    3632.0     0.999995     0.007159   \n",
       "3    14.0   413.0     109.0    22462.0    3607.0     0.999955     0.018387   \n",
       "4    15.0   980.0     541.0   104406.0    3605.0     0.999990     0.009386   \n",
       "5    16.0   500.0     238.0    64613.0    3602.0     0.999985     0.007738   \n",
       "6    17.0  1770.0     571.0   164843.0    3590.0     0.999994     0.010737   \n",
       "7  4994.0  4994.0    4994.0     4994.0    4994.0  4994.000000  4994.000000   \n",
       "8    20.0  9020.0    8309.0  1244101.0    3580.0     0.999999     0.007250   \n",
       "9    24.0  1307.0     687.0   160829.0    3568.0     0.999994     0.008127   \n",
       "\n",
       "   dislikes_coeff  l_d_coeff  time_coeff  \n",
       "0        0.995471   3.572614 -108.261516  \n",
       "1        0.995726   0.851351 -104.474282  \n",
       "2        0.998189   3.953964 -102.641207  \n",
       "3        0.995147   3.788991 -101.778490  \n",
       "4        0.994818   1.811460 -101.709527  \n",
       "5        0.996317   2.100840 -101.606097  \n",
       "6        0.996536   3.099825 -101.192558  \n",
       "7     4994.000000   1.000000 -151.358394  \n",
       "8        0.993321   1.085570 -100.848164  \n",
       "9        0.995728   1.902475 -100.435158  "
      ]
     },
     "execution_count": 328,
     "metadata": {},
     "output_type": "execute_result"
    }
   ],
   "source": [
    "df[:10]"
   ]
  },
  {
   "cell_type": "code",
   "execution_count": 329,
   "metadata": {},
   "outputs": [
    {
     "data": {
      "text/plain": [
       "0.02009825815096025"
      ]
     },
     "execution_count": 329,
     "metadata": {},
     "output_type": "execute_result"
    }
   ],
   "source": [
    "45/2239"
   ]
  },
  {
   "cell_type": "code",
   "execution_count": 84,
   "metadata": {},
   "outputs": [
    {
     "data": {
      "text/html": [
       "<div>\n",
       "<style scoped>\n",
       "    .dataframe tbody tr th:only-of-type {\n",
       "        vertical-align: middle;\n",
       "    }\n",
       "\n",
       "    .dataframe tbody tr th {\n",
       "        vertical-align: top;\n",
       "    }\n",
       "\n",
       "    .dataframe thead th {\n",
       "        text-align: right;\n",
       "    }\n",
       "</style>\n",
       "<table border=\"1\" class=\"dataframe\">\n",
       "  <thead>\n",
       "    <tr style=\"text-align: right;\">\n",
       "      <th></th>\n",
       "      <th>id</th>\n",
       "      <th>likes</th>\n",
       "      <th>dislikes</th>\n",
       "      <th>views</th>\n",
       "      <th>days_ago</th>\n",
       "      <th>views_coeff</th>\n",
       "      <th>likes_coeff</th>\n",
       "      <th>dislikes_coeff</th>\n",
       "      <th>l_d_coeff</th>\n",
       "      <th>time_coeff</th>\n",
       "      <th>rating</th>\n",
       "    </tr>\n",
       "  </thead>\n",
       "  <tbody>\n",
       "    <tr>\n",
       "      <th>0</th>\n",
       "      <td>5</td>\n",
       "      <td>861</td>\n",
       "      <td>241</td>\n",
       "      <td>53214</td>\n",
       "      <td>3794.0</td>\n",
       "      <td>0.999981</td>\n",
       "      <td>0.016180</td>\n",
       "      <td>0.995471</td>\n",
       "      <td>3.572614</td>\n",
       "      <td>-108.261516</td>\n",
       "      <td>6.693224</td>\n",
       "    </tr>\n",
       "    <tr>\n",
       "      <th>1</th>\n",
       "      <td>9</td>\n",
       "      <td>630</td>\n",
       "      <td>740</td>\n",
       "      <td>173130</td>\n",
       "      <td>3685.0</td>\n",
       "      <td>0.999994</td>\n",
       "      <td>0.003639</td>\n",
       "      <td>0.995726</td>\n",
       "      <td>0.851351</td>\n",
       "      <td>-104.474282</td>\n",
       "      <td>7.445451</td>\n",
       "    </tr>\n",
       "    <tr>\n",
       "      <th>2</th>\n",
       "      <td>13</td>\n",
       "      <td>1546</td>\n",
       "      <td>391</td>\n",
       "      <td>215958</td>\n",
       "      <td>3632.0</td>\n",
       "      <td>0.999995</td>\n",
       "      <td>0.007159</td>\n",
       "      <td>0.998189</td>\n",
       "      <td>3.953964</td>\n",
       "      <td>-102.641207</td>\n",
       "      <td>12.847293</td>\n",
       "    </tr>\n",
       "    <tr>\n",
       "      <th>3</th>\n",
       "      <td>14</td>\n",
       "      <td>413</td>\n",
       "      <td>109</td>\n",
       "      <td>22462</td>\n",
       "      <td>3607.0</td>\n",
       "      <td>0.999955</td>\n",
       "      <td>0.018387</td>\n",
       "      <td>0.995147</td>\n",
       "      <td>3.788991</td>\n",
       "      <td>-101.778490</td>\n",
       "      <td>13.191296</td>\n",
       "    </tr>\n",
       "    <tr>\n",
       "      <th>4</th>\n",
       "      <td>15</td>\n",
       "      <td>980</td>\n",
       "      <td>541</td>\n",
       "      <td>104406</td>\n",
       "      <td>3605.0</td>\n",
       "      <td>0.999990</td>\n",
       "      <td>0.009386</td>\n",
       "      <td>0.994818</td>\n",
       "      <td>1.811460</td>\n",
       "      <td>-101.709527</td>\n",
       "      <td>12.697424</td>\n",
       "    </tr>\n",
       "    <tr>\n",
       "      <th>...</th>\n",
       "      <td>...</td>\n",
       "      <td>...</td>\n",
       "      <td>...</td>\n",
       "      <td>...</td>\n",
       "      <td>...</td>\n",
       "      <td>...</td>\n",
       "      <td>...</td>\n",
       "      <td>...</td>\n",
       "      <td>...</td>\n",
       "      <td>...</td>\n",
       "      <td>...</td>\n",
       "    </tr>\n",
       "    <tr>\n",
       "      <th>71712</th>\n",
       "      <td>85651</td>\n",
       "      <td>0</td>\n",
       "      <td>0</td>\n",
       "      <td>0</td>\n",
       "      <td>NaN</td>\n",
       "      <td>0.000000</td>\n",
       "      <td>0.000000</td>\n",
       "      <td>0.000000</td>\n",
       "      <td>1.000000</td>\n",
       "      <td>0.000000</td>\n",
       "      <td>0.051134</td>\n",
       "    </tr>\n",
       "    <tr>\n",
       "      <th>71713</th>\n",
       "      <td>85652</td>\n",
       "      <td>0</td>\n",
       "      <td>0</td>\n",
       "      <td>0</td>\n",
       "      <td>NaN</td>\n",
       "      <td>0.000000</td>\n",
       "      <td>0.000000</td>\n",
       "      <td>0.000000</td>\n",
       "      <td>1.000000</td>\n",
       "      <td>0.000000</td>\n",
       "      <td>0.051134</td>\n",
       "    </tr>\n",
       "    <tr>\n",
       "      <th>71714</th>\n",
       "      <td>85653</td>\n",
       "      <td>0</td>\n",
       "      <td>0</td>\n",
       "      <td>0</td>\n",
       "      <td>NaN</td>\n",
       "      <td>0.000000</td>\n",
       "      <td>0.000000</td>\n",
       "      <td>0.000000</td>\n",
       "      <td>1.000000</td>\n",
       "      <td>0.000000</td>\n",
       "      <td>0.051134</td>\n",
       "    </tr>\n",
       "    <tr>\n",
       "      <th>71715</th>\n",
       "      <td>85654</td>\n",
       "      <td>0</td>\n",
       "      <td>0</td>\n",
       "      <td>0</td>\n",
       "      <td>NaN</td>\n",
       "      <td>0.000000</td>\n",
       "      <td>0.000000</td>\n",
       "      <td>0.000000</td>\n",
       "      <td>1.000000</td>\n",
       "      <td>0.000000</td>\n",
       "      <td>0.051134</td>\n",
       "    </tr>\n",
       "    <tr>\n",
       "      <th>71716</th>\n",
       "      <td>85655</td>\n",
       "      <td>0</td>\n",
       "      <td>0</td>\n",
       "      <td>0</td>\n",
       "      <td>NaN</td>\n",
       "      <td>0.000000</td>\n",
       "      <td>0.000000</td>\n",
       "      <td>0.000000</td>\n",
       "      <td>1.000000</td>\n",
       "      <td>0.000000</td>\n",
       "      <td>0.051134</td>\n",
       "    </tr>\n",
       "  </tbody>\n",
       "</table>\n",
       "<p>71717 rows × 11 columns</p>\n",
       "</div>"
      ],
      "text/plain": [
       "          id  likes  dislikes   views  days_ago  views_coeff  likes_coeff  \\\n",
       "0          5    861       241   53214    3794.0     0.999981     0.016180   \n",
       "1          9    630       740  173130    3685.0     0.999994     0.003639   \n",
       "2         13   1546       391  215958    3632.0     0.999995     0.007159   \n",
       "3         14    413       109   22462    3607.0     0.999955     0.018387   \n",
       "4         15    980       541  104406    3605.0     0.999990     0.009386   \n",
       "...      ...    ...       ...     ...       ...          ...          ...   \n",
       "71712  85651      0         0       0       NaN     0.000000     0.000000   \n",
       "71713  85652      0         0       0       NaN     0.000000     0.000000   \n",
       "71714  85653      0         0       0       NaN     0.000000     0.000000   \n",
       "71715  85654      0         0       0       NaN     0.000000     0.000000   \n",
       "71716  85655      0         0       0       NaN     0.000000     0.000000   \n",
       "\n",
       "       dislikes_coeff  l_d_coeff  time_coeff     rating  \n",
       "0            0.995471   3.572614 -108.261516   6.693224  \n",
       "1            0.995726   0.851351 -104.474282   7.445451  \n",
       "2            0.998189   3.953964 -102.641207  12.847293  \n",
       "3            0.995147   3.788991 -101.778490  13.191296  \n",
       "4            0.994818   1.811460 -101.709527  12.697424  \n",
       "...               ...        ...         ...        ...  \n",
       "71712        0.000000   1.000000    0.000000   0.051134  \n",
       "71713        0.000000   1.000000    0.000000   0.051134  \n",
       "71714        0.000000   1.000000    0.000000   0.051134  \n",
       "71715        0.000000   1.000000    0.000000   0.051134  \n",
       "71716        0.000000   1.000000    0.000000   0.051134  \n",
       "\n",
       "[71717 rows x 11 columns]"
      ]
     },
     "execution_count": 84,
     "metadata": {},
     "output_type": "execute_result"
    }
   ],
   "source": [
    "pd.concat([df,rating], axis=1)"
   ]
  },
  {
   "cell_type": "code",
   "execution_count": 96,
   "metadata": {},
   "outputs": [],
   "source": [
    "prep = pd.concat([df[['id', 'views', 'likes', 'dislikes', 'days_ago']],rating], axis=1)"
   ]
  },
  {
   "cell_type": "code",
   "execution_count": 131,
   "metadata": {},
   "outputs": [
    {
     "data": {
      "text/html": [
       "<div>\n",
       "<style scoped>\n",
       "    .dataframe tbody tr th:only-of-type {\n",
       "        vertical-align: middle;\n",
       "    }\n",
       "\n",
       "    .dataframe tbody tr th {\n",
       "        vertical-align: top;\n",
       "    }\n",
       "\n",
       "    .dataframe thead th {\n",
       "        text-align: right;\n",
       "    }\n",
       "</style>\n",
       "<table border=\"1\" class=\"dataframe\">\n",
       "  <thead>\n",
       "    <tr style=\"text-align: right;\">\n",
       "      <th></th>\n",
       "      <th>views</th>\n",
       "      <th>likes</th>\n",
       "      <th>dislikes</th>\n",
       "      <th>l_d</th>\n",
       "      <th>time</th>\n",
       "    </tr>\n",
       "  </thead>\n",
       "  <tbody>\n",
       "    <tr>\n",
       "      <th>count</th>\n",
       "      <td>71717.000000</td>\n",
       "      <td>71717.000000</td>\n",
       "      <td>71717.000000</td>\n",
       "      <td>71717.000000</td>\n",
       "      <td>71717.000000</td>\n",
       "    </tr>\n",
       "    <tr>\n",
       "      <th>mean</th>\n",
       "      <td>12.487446</td>\n",
       "      <td>2.270823</td>\n",
       "      <td>2.678686</td>\n",
       "      <td>0.998983</td>\n",
       "      <td>0.892857</td>\n",
       "    </tr>\n",
       "    <tr>\n",
       "      <th>std</th>\n",
       "      <td>5.187954</td>\n",
       "      <td>0.395671</td>\n",
       "      <td>0.408791</td>\n",
       "      <td>0.093078</td>\n",
       "      <td>0.147457</td>\n",
       "    </tr>\n",
       "    <tr>\n",
       "      <th>min</th>\n",
       "      <td>0.012861</td>\n",
       "      <td>2.000000</td>\n",
       "      <td>2.000000</td>\n",
       "      <td>0.500000</td>\n",
       "      <td>0.000000</td>\n",
       "    </tr>\n",
       "    <tr>\n",
       "      <th>25%</th>\n",
       "      <td>14.037380</td>\n",
       "      <td>2.000000</td>\n",
       "      <td>2.249976</td>\n",
       "      <td>0.993964</td>\n",
       "      <td>0.892368</td>\n",
       "    </tr>\n",
       "    <tr>\n",
       "      <th>50%</th>\n",
       "      <td>15.000000</td>\n",
       "      <td>2.000000</td>\n",
       "      <td>3.000000</td>\n",
       "      <td>0.993964</td>\n",
       "      <td>0.948628</td>\n",
       "    </tr>\n",
       "    <tr>\n",
       "      <th>75%</th>\n",
       "      <td>15.037380</td>\n",
       "      <td>2.749983</td>\n",
       "      <td>3.000000</td>\n",
       "      <td>0.993964</td>\n",
       "      <td>0.968942</td>\n",
       "    </tr>\n",
       "    <tr>\n",
       "      <th>max</th>\n",
       "      <td>15.039129</td>\n",
       "      <td>3.000000</td>\n",
       "      <td>3.000000</td>\n",
       "      <td>1.500000</td>\n",
       "      <td>1.000000</td>\n",
       "    </tr>\n",
       "  </tbody>\n",
       "</table>\n",
       "</div>"
      ],
      "text/plain": [
       "              views         likes      dislikes           l_d          time\n",
       "count  71717.000000  71717.000000  71717.000000  71717.000000  71717.000000\n",
       "mean      12.487446      2.270823      2.678686      0.998983      0.892857\n",
       "std        5.187954      0.395671      0.408791      0.093078      0.147457\n",
       "min        0.012861      2.000000      2.000000      0.500000      0.000000\n",
       "25%       14.037380      2.000000      2.249976      0.993964      0.892368\n",
       "50%       15.000000      2.000000      3.000000      0.993964      0.948628\n",
       "75%       15.037380      2.749983      3.000000      0.993964      0.968942\n",
       "max       15.039129      3.000000      3.000000      1.500000      1.000000"
      ]
     },
     "execution_count": 131,
     "metadata": {},
     "output_type": "execute_result"
    }
   ],
   "source": [
    "scaled.describe()"
   ]
  },
  {
   "cell_type": "code",
   "execution_count": 132,
   "metadata": {},
   "outputs": [
    {
     "data": {
      "text/html": [
       "<div>\n",
       "<style scoped>\n",
       "    .dataframe tbody tr th:only-of-type {\n",
       "        vertical-align: middle;\n",
       "    }\n",
       "\n",
       "    .dataframe tbody tr th {\n",
       "        vertical-align: top;\n",
       "    }\n",
       "\n",
       "    .dataframe thead th {\n",
       "        text-align: right;\n",
       "    }\n",
       "</style>\n",
       "<table border=\"1\" class=\"dataframe\">\n",
       "  <thead>\n",
       "    <tr style=\"text-align: right;\">\n",
       "      <th></th>\n",
       "      <th>views</th>\n",
       "      <th>likes</th>\n",
       "      <th>dislikes</th>\n",
       "      <th>l_d</th>\n",
       "      <th>time</th>\n",
       "    </tr>\n",
       "  </thead>\n",
       "  <tbody>\n",
       "    <tr>\n",
       "      <th>0</th>\n",
       "      <td>15.038849</td>\n",
       "      <td>2.959848</td>\n",
       "      <td>2.246043</td>\n",
       "      <td>1.167523</td>\n",
       "      <td>0.057341</td>\n",
       "    </tr>\n",
       "    <tr>\n",
       "      <th>1</th>\n",
       "      <td>15.039044</td>\n",
       "      <td>2.771618</td>\n",
       "      <td>2.261472</td>\n",
       "      <td>0.874527</td>\n",
       "      <td>0.090318</td>\n",
       "    </tr>\n",
       "    <tr>\n",
       "      <th>2</th>\n",
       "      <td>15.039061</td>\n",
       "      <td>2.905548</td>\n",
       "      <td>2.366014</td>\n",
       "      <td>1.169229</td>\n",
       "      <td>0.106279</td>\n",
       "    </tr>\n",
       "    <tr>\n",
       "      <th>3</th>\n",
       "      <td>15.038462</td>\n",
       "      <td>2.962223</td>\n",
       "      <td>2.227097</td>\n",
       "      <td>1.168479</td>\n",
       "      <td>0.113791</td>\n",
       "    </tr>\n",
       "    <tr>\n",
       "      <th>4</th>\n",
       "      <td>15.038987</td>\n",
       "      <td>2.936345</td>\n",
       "      <td>2.210343</td>\n",
       "      <td>1.137203</td>\n",
       "      <td>0.114391</td>\n",
       "    </tr>\n",
       "    <tr>\n",
       "      <th>...</th>\n",
       "      <td>...</td>\n",
       "      <td>...</td>\n",
       "      <td>...</td>\n",
       "      <td>...</td>\n",
       "      <td>...</td>\n",
       "    </tr>\n",
       "    <tr>\n",
       "      <th>71712</th>\n",
       "      <td>0.012861</td>\n",
       "      <td>2.000000</td>\n",
       "      <td>2.000000</td>\n",
       "      <td>0.993964</td>\n",
       "      <td>1.000000</td>\n",
       "    </tr>\n",
       "    <tr>\n",
       "      <th>71713</th>\n",
       "      <td>0.012861</td>\n",
       "      <td>2.000000</td>\n",
       "      <td>2.000000</td>\n",
       "      <td>0.993964</td>\n",
       "      <td>1.000000</td>\n",
       "    </tr>\n",
       "    <tr>\n",
       "      <th>71714</th>\n",
       "      <td>0.012861</td>\n",
       "      <td>2.000000</td>\n",
       "      <td>2.000000</td>\n",
       "      <td>0.993964</td>\n",
       "      <td>1.000000</td>\n",
       "    </tr>\n",
       "    <tr>\n",
       "      <th>71715</th>\n",
       "      <td>0.012861</td>\n",
       "      <td>2.000000</td>\n",
       "      <td>2.000000</td>\n",
       "      <td>0.993964</td>\n",
       "      <td>1.000000</td>\n",
       "    </tr>\n",
       "    <tr>\n",
       "      <th>71716</th>\n",
       "      <td>0.012861</td>\n",
       "      <td>2.000000</td>\n",
       "      <td>2.000000</td>\n",
       "      <td>0.993964</td>\n",
       "      <td>1.000000</td>\n",
       "    </tr>\n",
       "  </tbody>\n",
       "</table>\n",
       "<p>71717 rows × 5 columns</p>\n",
       "</div>"
      ],
      "text/plain": [
       "           views     likes  dislikes       l_d      time\n",
       "0      15.038849  2.959848  2.246043  1.167523  0.057341\n",
       "1      15.039044  2.771618  2.261472  0.874527  0.090318\n",
       "2      15.039061  2.905548  2.366014  1.169229  0.106279\n",
       "3      15.038462  2.962223  2.227097  1.168479  0.113791\n",
       "4      15.038987  2.936345  2.210343  1.137203  0.114391\n",
       "...          ...       ...       ...       ...       ...\n",
       "71712   0.012861  2.000000  2.000000  0.993964  1.000000\n",
       "71713   0.012861  2.000000  2.000000  0.993964  1.000000\n",
       "71714   0.012861  2.000000  2.000000  0.993964  1.000000\n",
       "71715   0.012861  2.000000  2.000000  0.993964  1.000000\n",
       "71716   0.012861  2.000000  2.000000  0.993964  1.000000\n",
       "\n",
       "[71717 rows x 5 columns]"
      ]
     },
     "execution_count": 132,
     "metadata": {},
     "output_type": "execute_result"
    }
   ],
   "source": [
    "scaled"
   ]
  },
  {
   "cell_type": "code",
   "execution_count": 133,
   "metadata": {},
   "outputs": [
    {
     "data": {
      "text/html": [
       "<div>\n",
       "<style scoped>\n",
       "    .dataframe tbody tr th:only-of-type {\n",
       "        vertical-align: middle;\n",
       "    }\n",
       "\n",
       "    .dataframe tbody tr th {\n",
       "        vertical-align: top;\n",
       "    }\n",
       "\n",
       "    .dataframe thead th {\n",
       "        text-align: right;\n",
       "    }\n",
       "</style>\n",
       "<table border=\"1\" class=\"dataframe\">\n",
       "  <thead>\n",
       "    <tr style=\"text-align: right;\">\n",
       "      <th></th>\n",
       "      <th>id</th>\n",
       "      <th>views</th>\n",
       "      <th>likes</th>\n",
       "      <th>dislikes</th>\n",
       "      <th>days_ago</th>\n",
       "      <th>rating</th>\n",
       "    </tr>\n",
       "  </thead>\n",
       "  <tbody>\n",
       "    <tr>\n",
       "      <th>39994</th>\n",
       "      <td>48016</td>\n",
       "      <td>54369</td>\n",
       "      <td>222</td>\n",
       "      <td>302</td>\n",
       "      <td>3982.0</td>\n",
       "      <td>0.000000</td>\n",
       "    </tr>\n",
       "    <tr>\n",
       "      <th>6459</th>\n",
       "      <td>8016</td>\n",
       "      <td>59206</td>\n",
       "      <td>222</td>\n",
       "      <td>302</td>\n",
       "      <td>3982.0</td>\n",
       "      <td>0.000000</td>\n",
       "    </tr>\n",
       "    <tr>\n",
       "      <th>44285</th>\n",
       "      <td>52853</td>\n",
       "      <td>1</td>\n",
       "      <td>0</td>\n",
       "      <td>1</td>\n",
       "      <td>454.0</td>\n",
       "      <td>0.023980</td>\n",
       "    </tr>\n",
       "    <tr>\n",
       "      <th>8771</th>\n",
       "      <td>10874</td>\n",
       "      <td>0</td>\n",
       "      <td>0</td>\n",
       "      <td>0</td>\n",
       "      <td>462.0</td>\n",
       "      <td>0.047594</td>\n",
       "    </tr>\n",
       "    <tr>\n",
       "      <th>8774</th>\n",
       "      <td>10877</td>\n",
       "      <td>0</td>\n",
       "      <td>0</td>\n",
       "      <td>0</td>\n",
       "      <td>461.0</td>\n",
       "      <td>0.047604</td>\n",
       "    </tr>\n",
       "    <tr>\n",
       "      <th>...</th>\n",
       "      <td>...</td>\n",
       "      <td>...</td>\n",
       "      <td>...</td>\n",
       "      <td>...</td>\n",
       "      <td>...</td>\n",
       "      <td>...</td>\n",
       "    </tr>\n",
       "    <tr>\n",
       "      <th>13313</th>\n",
       "      <td>15419</td>\n",
       "      <td>17183</td>\n",
       "      <td>4974</td>\n",
       "      <td>0</td>\n",
       "      <td>503.0</td>\n",
       "      <td>167.585430</td>\n",
       "    </tr>\n",
       "    <tr>\n",
       "      <th>46848</th>\n",
       "      <td>55419</td>\n",
       "      <td>17680</td>\n",
       "      <td>4980</td>\n",
       "      <td>0</td>\n",
       "      <td>503.0</td>\n",
       "      <td>168.617160</td>\n",
       "    </tr>\n",
       "    <tr>\n",
       "      <th>13218</th>\n",
       "      <td>15324</td>\n",
       "      <td>10505</td>\n",
       "      <td>4987</td>\n",
       "      <td>0</td>\n",
       "      <td>497.0</td>\n",
       "      <td>170.866483</td>\n",
       "    </tr>\n",
       "    <tr>\n",
       "      <th>13611</th>\n",
       "      <td>15717</td>\n",
       "      <td>17842</td>\n",
       "      <td>4995</td>\n",
       "      <td>0</td>\n",
       "      <td>599.0</td>\n",
       "      <td>183.123420</td>\n",
       "    </tr>\n",
       "    <tr>\n",
       "      <th>47146</th>\n",
       "      <td>55717</td>\n",
       "      <td>17842</td>\n",
       "      <td>4995</td>\n",
       "      <td>0</td>\n",
       "      <td>599.0</td>\n",
       "      <td>183.123420</td>\n",
       "    </tr>\n",
       "  </tbody>\n",
       "</table>\n",
       "<p>71717 rows × 6 columns</p>\n",
       "</div>"
      ],
      "text/plain": [
       "          id  views  likes  dislikes  days_ago      rating\n",
       "39994  48016  54369    222       302    3982.0    0.000000\n",
       "6459    8016  59206    222       302    3982.0    0.000000\n",
       "44285  52853      1      0         1     454.0    0.023980\n",
       "8771   10874      0      0         0     462.0    0.047594\n",
       "8774   10877      0      0         0     461.0    0.047604\n",
       "...      ...    ...    ...       ...       ...         ...\n",
       "13313  15419  17183   4974         0     503.0  167.585430\n",
       "46848  55419  17680   4980         0     503.0  168.617160\n",
       "13218  15324  10505   4987         0     497.0  170.866483\n",
       "13611  15717  17842   4995         0     599.0  183.123420\n",
       "47146  55717  17842   4995         0     599.0  183.123420\n",
       "\n",
       "[71717 rows x 6 columns]"
      ]
     },
     "execution_count": 133,
     "metadata": {},
     "output_type": "execute_result"
    }
   ],
   "source": [
    "prep.sort_values('rating')"
   ]
  },
  {
   "cell_type": "code",
   "execution_count": 100,
   "metadata": {},
   "outputs": [
    {
     "data": {
      "text/html": [
       "<div>\n",
       "<style scoped>\n",
       "    .dataframe tbody tr th:only-of-type {\n",
       "        vertical-align: middle;\n",
       "    }\n",
       "\n",
       "    .dataframe tbody tr th {\n",
       "        vertical-align: top;\n",
       "    }\n",
       "\n",
       "    .dataframe thead th {\n",
       "        text-align: right;\n",
       "    }\n",
       "</style>\n",
       "<table border=\"1\" class=\"dataframe\">\n",
       "  <thead>\n",
       "    <tr style=\"text-align: right;\">\n",
       "      <th></th>\n",
       "      <th>id</th>\n",
       "      <th>views</th>\n",
       "      <th>likes</th>\n",
       "      <th>dislikes</th>\n",
       "      <th>days_ago</th>\n",
       "      <th>rating</th>\n",
       "    </tr>\n",
       "  </thead>\n",
       "  <tbody>\n",
       "    <tr>\n",
       "      <th>count</th>\n",
       "      <td>71717.000000</td>\n",
       "      <td>7.171700e+04</td>\n",
       "      <td>71717.000000</td>\n",
       "      <td>71717.000000</td>\n",
       "      <td>67325.000000</td>\n",
       "      <td>71717.000000</td>\n",
       "    </tr>\n",
       "    <tr>\n",
       "      <th>mean</th>\n",
       "      <td>42280.861386</td>\n",
       "      <td>1.510061e+04</td>\n",
       "      <td>162.601643</td>\n",
       "      <td>73.929835</td>\n",
       "      <td>626.380973</td>\n",
       "      <td>68.894186</td>\n",
       "    </tr>\n",
       "    <tr>\n",
       "      <th>std</th>\n",
       "      <td>24553.015801</td>\n",
       "      <td>8.510321e+04</td>\n",
       "      <td>811.661896</td>\n",
       "      <td>541.016825</td>\n",
       "      <td>646.002122</td>\n",
       "      <td>34.376783</td>\n",
       "    </tr>\n",
       "    <tr>\n",
       "      <th>min</th>\n",
       "      <td>5.000000</td>\n",
       "      <td>0.000000e+00</td>\n",
       "      <td>-2.000000</td>\n",
       "      <td>0.000000</td>\n",
       "      <td>0.000000</td>\n",
       "      <td>0.000000</td>\n",
       "    </tr>\n",
       "    <tr>\n",
       "      <th>25%</th>\n",
       "      <td>20899.000000</td>\n",
       "      <td>1.500000e+01</td>\n",
       "      <td>0.000000</td>\n",
       "      <td>0.000000</td>\n",
       "      <td>248.000000</td>\n",
       "      <td>55.767849</td>\n",
       "    </tr>\n",
       "    <tr>\n",
       "      <th>50%</th>\n",
       "      <td>43128.000000</td>\n",
       "      <td>3.840000e+02</td>\n",
       "      <td>0.000000</td>\n",
       "      <td>0.000000</td>\n",
       "      <td>393.000000</td>\n",
       "      <td>82.616434</td>\n",
       "    </tr>\n",
       "    <tr>\n",
       "      <th>75%</th>\n",
       "      <td>63283.000000</td>\n",
       "      <td>8.580000e+03</td>\n",
       "      <td>25.000000</td>\n",
       "      <td>5.000000</td>\n",
       "      <td>693.000000</td>\n",
       "      <td>86.525354</td>\n",
       "    </tr>\n",
       "    <tr>\n",
       "      <th>max</th>\n",
       "      <td>85655.000000</td>\n",
       "      <td>7.667140e+06</td>\n",
       "      <td>56745.000000</td>\n",
       "      <td>41492.000000</td>\n",
       "      <td>3982.000000</td>\n",
       "      <td>183.123420</td>\n",
       "    </tr>\n",
       "  </tbody>\n",
       "</table>\n",
       "</div>"
      ],
      "text/plain": [
       "                 id         views         likes      dislikes      days_ago  \\\n",
       "count  71717.000000  7.171700e+04  71717.000000  71717.000000  67325.000000   \n",
       "mean   42280.861386  1.510061e+04    162.601643     73.929835    626.380973   \n",
       "std    24553.015801  8.510321e+04    811.661896    541.016825    646.002122   \n",
       "min        5.000000  0.000000e+00     -2.000000      0.000000      0.000000   \n",
       "25%    20899.000000  1.500000e+01      0.000000      0.000000    248.000000   \n",
       "50%    43128.000000  3.840000e+02      0.000000      0.000000    393.000000   \n",
       "75%    63283.000000  8.580000e+03     25.000000      5.000000    693.000000   \n",
       "max    85655.000000  7.667140e+06  56745.000000  41492.000000   3982.000000   \n",
       "\n",
       "             rating  \n",
       "count  71717.000000  \n",
       "mean      68.894186  \n",
       "std       34.376783  \n",
       "min        0.000000  \n",
       "25%       55.767849  \n",
       "50%       82.616434  \n",
       "75%       86.525354  \n",
       "max      183.123420  "
      ]
     },
     "execution_count": 100,
     "metadata": {},
     "output_type": "execute_result"
    }
   ],
   "source": [
    "prep.describe()"
   ]
  },
  {
   "cell_type": "code",
   "execution_count": 134,
   "metadata": {},
   "outputs": [
    {
     "data": {
      "text/html": [
       "<div>\n",
       "<style scoped>\n",
       "    .dataframe tbody tr th:only-of-type {\n",
       "        vertical-align: middle;\n",
       "    }\n",
       "\n",
       "    .dataframe tbody tr th {\n",
       "        vertical-align: top;\n",
       "    }\n",
       "\n",
       "    .dataframe thead th {\n",
       "        text-align: right;\n",
       "    }\n",
       "</style>\n",
       "<table border=\"1\" class=\"dataframe\">\n",
       "  <thead>\n",
       "    <tr style=\"text-align: right;\">\n",
       "      <th></th>\n",
       "      <th>id</th>\n",
       "      <th>views</th>\n",
       "      <th>likes</th>\n",
       "      <th>dislikes</th>\n",
       "      <th>days_ago</th>\n",
       "      <th>rating</th>\n",
       "    </tr>\n",
       "  </thead>\n",
       "  <tbody>\n",
       "    <tr>\n",
       "      <th>id</th>\n",
       "      <td>1.000000</td>\n",
       "      <td>-0.122089</td>\n",
       "      <td>-0.103793</td>\n",
       "      <td>-0.105088</td>\n",
       "      <td>-0.408994</td>\n",
       "      <td>0.070681</td>\n",
       "    </tr>\n",
       "    <tr>\n",
       "      <th>views</th>\n",
       "      <td>-0.122089</td>\n",
       "      <td>1.000000</td>\n",
       "      <td>0.738835</td>\n",
       "      <td>0.954673</td>\n",
       "      <td>0.321767</td>\n",
       "      <td>-0.041985</td>\n",
       "    </tr>\n",
       "    <tr>\n",
       "      <th>likes</th>\n",
       "      <td>-0.103793</td>\n",
       "      <td>0.738835</td>\n",
       "      <td>1.000000</td>\n",
       "      <td>0.717358</td>\n",
       "      <td>0.217183</td>\n",
       "      <td>0.200640</td>\n",
       "    </tr>\n",
       "    <tr>\n",
       "      <th>dislikes</th>\n",
       "      <td>-0.105088</td>\n",
       "      <td>0.954673</td>\n",
       "      <td>0.717358</td>\n",
       "      <td>1.000000</td>\n",
       "      <td>0.290389</td>\n",
       "      <td>-0.068130</td>\n",
       "    </tr>\n",
       "    <tr>\n",
       "      <th>days_ago</th>\n",
       "      <td>-0.408994</td>\n",
       "      <td>0.321767</td>\n",
       "      <td>0.217183</td>\n",
       "      <td>0.290389</td>\n",
       "      <td>1.000000</td>\n",
       "      <td>-0.296962</td>\n",
       "    </tr>\n",
       "    <tr>\n",
       "      <th>rating</th>\n",
       "      <td>0.070681</td>\n",
       "      <td>-0.041985</td>\n",
       "      <td>0.200640</td>\n",
       "      <td>-0.068130</td>\n",
       "      <td>-0.296962</td>\n",
       "      <td>1.000000</td>\n",
       "    </tr>\n",
       "  </tbody>\n",
       "</table>\n",
       "</div>"
      ],
      "text/plain": [
       "                id     views     likes  dislikes  days_ago    rating\n",
       "id        1.000000 -0.122089 -0.103793 -0.105088 -0.408994  0.070681\n",
       "views    -0.122089  1.000000  0.738835  0.954673  0.321767 -0.041985\n",
       "likes    -0.103793  0.738835  1.000000  0.717358  0.217183  0.200640\n",
       "dislikes -0.105088  0.954673  0.717358  1.000000  0.290389 -0.068130\n",
       "days_ago -0.408994  0.321767  0.217183  0.290389  1.000000 -0.296962\n",
       "rating    0.070681 -0.041985  0.200640 -0.068130 -0.296962  1.000000"
      ]
     },
     "execution_count": 134,
     "metadata": {},
     "output_type": "execute_result"
    }
   ],
   "source": [
    "prep.corr()"
   ]
  },
  {
   "cell_type": "code",
   "execution_count": 135,
   "metadata": {},
   "outputs": [],
   "source": [
    "import seaborn as sns"
   ]
  },
  {
   "cell_type": "code",
   "execution_count": 125,
   "metadata": {},
   "outputs": [
    {
     "data": {
      "text/plain": [
       "<matplotlib.axes._subplots.AxesSubplot at 0x7f729573d150>"
      ]
     },
     "execution_count": 125,
     "metadata": {},
     "output_type": "execute_result"
    },
    {
     "data": {
      "image/png": "[encoded data removed]",
      "text/plain": [
       "<Figure size 432x288 with 1 Axes>"
      ]
     },
     "metadata": {
      "needs_background": "light"
     },
     "output_type": "display_data"
    }
   ],
   "source": [
    "sns.distplot(prep['rating'])"
   ]
  },
  {
   "cell_type": "code",
   "execution_count": 106,
   "metadata": {},
   "outputs": [
    {
     "data": {
      "text/plain": [
       "<matplotlib.axes._subplots.AxesSubplot at 0x7f729c5d5f10>"
      ]
     },
     "execution_count": 106,
     "metadata": {},
     "output_type": "execute_result"
    },
    {
     "data": {
      "image/png": "[encoded data removed]",
      "text/plain": [
       "<Figure size 432x288 with 1 Axes>"
      ]
     },
     "metadata": {
      "needs_background": "light"
     },
     "output_type": "display_data"
    }
   ],
   "source": [
    "sns.boxplot(prep['rating'])"
   ]
  },
  {
   "cell_type": "code",
   "execution_count": 121,
   "metadata": {},
   "outputs": [],
   "source": [
    "prep.set_index('id').loc[:, 'rating'].to_json('movie_ratings.json')"
   ]
  },
  {
   "cell_type": "code",
   "execution_count": null,
   "metadata": {},
   "outputs": [],
   "source": []
  }
 ],
 "metadata": {
  "kernelspec": {
   "display_name": "Python 3",
   "language": "python",
   "name": "python3"
  },
  "language_info": {
   "codemirror_mode": {
    "name": "ipython",
    "version": 3
   },
   "file_extension": ".py",
   "mimetype": "text/x-python",
   "name": "python",
   "nbconvert_exporter": "python",
   "pygments_lexer": "ipython3",
   "version": "3.7.7"
  }
 },
 "nbformat": 4,
 "nbformat_minor": 4
}
